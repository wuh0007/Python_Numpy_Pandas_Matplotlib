{
 "cells": [
  {
   "cell_type": "code",
   "execution_count": 4,
   "metadata": {
    "collapsed": false
   },
   "outputs": [
    {
     "name": "stdout",
     "output_type": "stream",
     "text": [
      "Austin\n",
      "Dallas\n",
      "Houston\n",
      "123\n"
     ]
    }
   ],
   "source": [
    "# Loop\n",
    "cities = [\"Austin\",\"Dallas\",\"Houston\"]\n",
    "for city in cities:\n",
    "    print(city)\n",
    "print('123')    "
   ]
  },
  {
   "cell_type": "code",
   "execution_count": 3,
   "metadata": {
    "collapsed": false
   },
   "outputs": [
    {
     "name": "stdout",
     "output_type": "stream",
     "text": [
      "1\n",
      "2\n",
      "3\n"
     ]
    }
   ],
   "source": [
    "i = 0\n",
    "while i < 3:\n",
    "    i += 1\n",
    "    print(i)\n"
   ]
  },
  {
   "cell_type": "code",
   "execution_count": 5,
   "metadata": {
    "collapsed": false
   },
   "outputs": [
    {
     "name": "stdout",
     "output_type": "stream",
     "text": [
      "0\n",
      "1\n",
      "2\n",
      "3\n",
      "4\n",
      "5\n",
      "6\n",
      "7\n",
      "8\n",
      "9\n"
     ]
    }
   ],
   "source": [
    "for i in range(10): #not includ 10, 1 to 9\n",
    "    print(i)\n",
    "    "
   ]
  },
  {
   "cell_type": "code",
   "execution_count": 6,
   "metadata": {
    "collapsed": false
   },
   "outputs": [
    {
     "name": "stdout",
     "output_type": "stream",
     "text": [
      "[['Austin', 'Dallas', 'Houston'], ['hebei', 'shanghai', 'beijing']]\n",
      "['Austin', 'Dallas', 'Houston']\n",
      "['hebei', 'shanghai', 'beijing']\n",
      "Austin\n",
      "Dallas\n",
      "Houston\n",
      "hebei\n",
      "shanghai\n",
      "beijing\n"
     ]
    }
   ],
   "source": [
    "cities = [[\"Austin\",\"Dallas\",\"Houston\"],[\"hebei\",\"shanghai\",\"beijing\"]]\n",
    "print(cities)\n",
    "for city in cities:\n",
    "    print(city)\n",
    "    \n",
    "for i in cities:\n",
    "    for j in i:\n",
    "        print(j)"
   ]
  },
  {
   "cell_type": "code",
   "execution_count": 7,
   "metadata": {
    "collapsed": false
   },
   "outputs": [
    {
     "name": "stdout",
     "output_type": "stream",
     "text": [
      "<class 'bool'>\n"
     ]
    }
   ],
   "source": [
    "# boolean\n",
    "cat = True\n",
    "dog = False\n",
    "print(type(cat))\n"
   ]
  },
  {
   "cell_type": "code",
   "execution_count": 8,
   "metadata": {
    "collapsed": false
   },
   "outputs": [
    {
     "name": "stdout",
     "output_type": "stream",
     "text": [
      "True\n",
      "False\n",
      "False\n",
      "True\n",
      "True\n",
      "True\n",
      "True\n"
     ]
    }
   ],
   "source": [
    "print(8 == 8) #True\n",
    "print(8 != 8) #False\n",
    "print(8 == 10) #False\n",
    "print(8 != 10) #True\n",
    "\n",
    "print(\"8\" == \"8\") #True\n",
    "print([\"jan\",\"feb\"] == [\"jan\",\"feb\"])#True\n",
    "print(5.0 == 5.0)#True"
   ]
  },
  {
   "cell_type": "code",
   "execution_count": 10,
   "metadata": {
    "collapsed": false
   },
   "outputs": [
    {
     "name": "stdout",
     "output_type": "stream",
     "text": [
      "False\n",
      "True\n"
     ]
    }
   ],
   "source": [
    "rates = [10,15,20]\n",
    "\n",
    "print(rates[0] > rates[1]) #False\n",
    "print(rates[0] >= rates[0]) #True\n"
   ]
  },
  {
   "cell_type": "code",
   "execution_count": 11,
   "metadata": {
    "collapsed": false
   },
   "outputs": [
    {
     "name": "stdout",
     "output_type": "stream",
     "text": [
      "700\n"
     ]
    }
   ],
   "source": [
    "# If statements\n",
    "sample_rate = 700\n",
    "greater = (sample_rate > 5) #this is the conditional statement\n",
    "if greater:  # >0 => True, =0 => False\n",
    "    print(sample_rate)\n",
    "else:\n",
    "    print('less than')"
   ]
  },
  {
   "cell_type": "code",
   "execution_count": 12,
   "metadata": {
    "collapsed": false
   },
   "outputs": [
    {
     "name": "stdout",
     "output_type": "stream",
     "text": [
      "Now you see me\n"
     ]
    }
   ],
   "source": [
    "t = True\n",
    "f = False\n",
    "\n",
    "if t:\n",
    "    print(\"Now you see me\")\n",
    "if f:\n",
    "    print(\"Now you don't\")"
   ]
  }
 ],
 "metadata": {
  "kernelspec": {
   "display_name": "Python [conda env:Anaconda3]",
   "language": "python",
   "name": "conda-env-Anaconda3-py"
  },
  "language_info": {
   "codemirror_mode": {
    "name": "ipython",
    "version": 3
   },
   "file_extension": ".py",
   "mimetype": "text/x-python",
   "name": "python",
   "nbconvert_exporter": "python",
   "pygments_lexer": "ipython3",
   "version": "3.5.6"
  }
 },
 "nbformat": 4,
 "nbformat_minor": 1
}
