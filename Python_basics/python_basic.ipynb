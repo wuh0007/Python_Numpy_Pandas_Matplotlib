{
 "cells": [
  {
   "cell_type": "code",
   "execution_count": null,
   "metadata": {
    "collapsed": true
   },
   "outputs": [],
   "source": [
    "days = 365"
   ]
  },
  {
   "cell_type": "code",
   "execution_count": null,
   "metadata": {
    "collapsed": true
   },
   "outputs": [],
   "source": [
    "days_1 = 365\n",
    "days_2 = 365"
   ]
  },
  {
   "cell_type": "code",
   "execution_count": null,
   "metadata": {
    "collapsed": true
   },
   "outputs": [],
   "source": [
    "number_of_days = 365\n",
    "number_of_days = 366"
   ]
  },
  {
   "cell_type": "code",
   "execution_count": 1,
   "metadata": {
    "collapsed": false
   },
   "outputs": [
    {
     "name": "stdout",
     "output_type": "stream",
     "text": [
      "365\n"
     ]
    }
   ],
   "source": [
    "#print\n",
    "print(365)"
   ]
  },
  {
   "cell_type": "code",
   "execution_count": 2,
   "metadata": {
    "collapsed": false
   },
   "outputs": [
    {
     "name": "stdout",
     "output_type": "stream",
     "text": [
      "365\n"
     ]
    }
   ],
   "source": [
    "number_of_days = 365\n",
    "print(number_of_days)"
   ]
  },
  {
   "cell_type": "code",
   "execution_count": 3,
   "metadata": {
    "collapsed": false
   },
   "outputs": [
    {
     "name": "stdout",
     "output_type": "stream",
     "text": [
      "hellp python\n"
     ]
    }
   ],
   "source": [
    "print('hellp python')"
   ]
  },
  {
   "cell_type": "code",
   "execution_count": 4,
   "metadata": {
    "collapsed": false
   },
   "outputs": [
    {
     "name": "stdout",
     "output_type": "stream",
     "text": [
      "China\n",
      "123\n",
      "122.5\n"
     ]
    }
   ],
   "source": [
    "str_test = 'China'\n",
    "int_test = 123\n",
    "float_test = 122.5\n",
    "\n",
    "print(str_test)\n",
    "print(int_test)\n",
    "print(float_test)"
   ]
  },
  {
   "cell_type": "code",
   "execution_count": 5,
   "metadata": {
    "collapsed": false
   },
   "outputs": [
    {
     "name": "stdout",
     "output_type": "stream",
     "text": [
      "<class 'str'>\n",
      "<class 'int'>\n",
      "<class 'float'>\n"
     ]
    }
   ],
   "source": [
    "print(type(str_test))\n",
    "print(type(int_test))\n",
    "print(type(float_test))"
   ]
  },
  {
   "cell_type": "code",
   "execution_count": 9,
   "metadata": {
    "collapsed": false
   },
   "outputs": [
    {
     "name": "stdout",
     "output_type": "stream",
     "text": [
      "<class 'str'>\n",
      "<class 'int'>\n"
     ]
    }
   ],
   "source": [
    "str_eight = str(8)\n",
    "# str_eight + 10\n",
    "print(type(str_eight))\n",
    "eight = 8\n",
    "str_eight_two = str(eight)\n",
    "\n",
    "str_eight = '8'\n",
    "int_eight = int(str_eight)\n",
    "int_eight + 10\n",
    "print(type(int_eight))"
   ]
  },
  {
   "cell_type": "code",
   "execution_count": null,
   "metadata": {
    "collapsed": true
   },
   "outputs": [],
   "source": [
    "str_test = 'test'\n",
    "str_to_int = int(str_test)"
   ]
  },
  {
   "cell_type": "code",
   "execution_count": null,
   "metadata": {
    "collapsed": true
   },
   "outputs": [],
   "source": [
    "# Addition: +\n",
    "# substraction: -\n",
    "# multiplication: *\n",
    "# division: /\n",
    "# exponent: **"
   ]
  },
  {
   "cell_type": "code",
   "execution_count": 10,
   "metadata": {
    "collapsed": false
   },
   "outputs": [
    {
     "name": "stdout",
     "output_type": "stream",
     "text": [
      "20\n",
      "10000\n",
      "100\n"
     ]
    }
   ],
   "source": [
    "china = 10\n",
    "us = 100\n",
    "china_plus_10 = china + 10\n",
    "us_times_100 = us * 100\n",
    "print(china_plus_10)\n",
    "print(us_times_100)\n",
    "print(china**2)"
   ]
  },
  {
   "cell_type": "code",
   "execution_count": 14,
   "metadata": {
    "collapsed": false
   },
   "outputs": [
    {
     "name": "stdout",
     "output_type": "stream",
     "text": [
      "<class 'list'>\n",
      "[]\n",
      "['Jan', 'Feb']\n"
     ]
    }
   ],
   "source": [
    "# List\n",
    "months = []\n",
    "print(type(months))\n",
    "print(months)\n",
    "months.append(\"Jan\")\n",
    "months.append('Feb')\n",
    "print(months)"
   ]
  },
  {
   "cell_type": "code",
   "execution_count": 15,
   "metadata": {
    "collapsed": false
   },
   "outputs": [
    {
     "name": "stdout",
     "output_type": "stream",
     "text": [
      "[1, 'Jan', 2, 'Feb']\n"
     ]
    }
   ],
   "source": [
    "months = []\n",
    "months.append(1)\n",
    "months.append(\"Jan\")\n",
    "months.append(2)\n",
    "months.append('Feb')\n",
    "print(months)"
   ]
  },
  {
   "cell_type": "code",
   "execution_count": 16,
   "metadata": {
    "collapsed": true
   },
   "outputs": [],
   "source": [
    "tmps = [\"China\",122.5,\"india\",124.0,\"us\",134.1]"
   ]
  },
  {
   "cell_type": "code",
   "execution_count": 18,
   "metadata": {
    "collapsed": false
   },
   "outputs": [
    {
     "name": "stdout",
     "output_type": "stream",
     "text": [
      "['china', 'india', 'us']\n",
      "[30.1, 22.3, 10.2]\n",
      "china\n",
      "30.1\n"
     ]
    }
   ],
   "source": [
    "countries = []\n",
    "temps = []\n",
    "\n",
    "countries.append(\"china\")\n",
    "countries.append(\"india\")\n",
    "countries.append(\"us\")\n",
    "\n",
    "temps.append(30.1)\n",
    "temps.append(22.3)\n",
    "temps.append(10.2)\n",
    "\n",
    "print(countries)\n",
    "print(temps)\n",
    "\n",
    "china = countries[0]\n",
    "china_temps = temps[0]\n",
    "print(china)\n",
    "print(china_temps)"
   ]
  },
  {
   "cell_type": "code",
   "execution_count": 19,
   "metadata": {
    "collapsed": false
   },
   "outputs": [
    {
     "name": "stdout",
     "output_type": "stream",
     "text": [
      "12\n"
     ]
    }
   ],
   "source": [
    "int_months = [1,2,3,4,5,6,7,8,9,10,11,12]\n",
    "# length = len(int_months) # contains the integer value 12\n",
    "print(length)"
   ]
  },
  {
   "cell_type": "code",
   "execution_count": 21,
   "metadata": {
    "collapsed": false
   },
   "outputs": [
    {
     "name": "stdout",
     "output_type": "stream",
     "text": [
      "12\n",
      "12\n"
     ]
    }
   ],
   "source": [
    "int_months = [1,2,3,4,5,6,7,8,9,10,11,12]\n",
    "index = len(int_months) - 1\n",
    "last_value = int_months[index] #contains the value at index 11\n",
    "print(last_value)\n",
    "print(int_months[-1])"
   ]
  },
  {
   "cell_type": "code",
   "execution_count": 26,
   "metadata": {
    "collapsed": false
   },
   "outputs": [
    {
     "name": "stdout",
     "output_type": "stream",
     "text": [
      "['mar', 'apr', 'may', 'jun']\n"
     ]
    }
   ],
   "source": [
    "# slicing\n",
    "months = [\"jan\",\"feb\",\"mar\",\"apr\",\"may\",\"jun\",\"jul\"]\n",
    "# values at index 2,3,but not 4\n",
    "two_four = months[2:4]\n",
    "print(two_four)"
   ]
  },
  {
   "cell_type": "code",
   "execution_count": 27,
   "metadata": {
    "collapsed": false
   },
   "outputs": [
    {
     "name": "stdout",
     "output_type": "stream",
     "text": [
      "['apr', 'may', 'jun', 'jul']\n"
     ]
    }
   ],
   "source": [
    "three_six = months[3:]\n",
    "print(three_six)"
   ]
  }
 ],
 "metadata": {
  "anaconda-cloud": {},
  "kernelspec": {
   "display_name": "Python [conda env:Anaconda3]",
   "language": "python",
   "name": "conda-env-Anaconda3-py"
  },
  "language_info": {
   "codemirror_mode": {
    "name": "ipython",
    "version": 3
   },
   "file_extension": ".py",
   "mimetype": "text/x-python",
   "name": "python",
   "nbconvert_exporter": "python",
   "pygments_lexer": "ipython3",
   "version": "3.5.6"
  }
 },
 "nbformat": 4,
 "nbformat_minor": 1
}
