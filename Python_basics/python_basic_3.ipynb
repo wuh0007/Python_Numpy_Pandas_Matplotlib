{
 "cells": [
  {
   "cell_type": "code",
   "execution_count": 1,
   "metadata": {
    "collapsed": false
   },
   "outputs": [
    {
     "name": "stdout",
     "output_type": "stream",
     "text": [
      "cat found\n"
     ]
    }
   ],
   "source": [
    "# find a value\n",
    "animals = [\"cat\", \"dog\", \"rabbit\"]\n",
    "for animal in animals:\n",
    "    if animal == \"cat\":\n",
    "        print(\"cat found\")\n",
    "        "
   ]
  },
  {
   "cell_type": "code",
   "execution_count": 2,
   "metadata": {
    "collapsed": false
   },
   "outputs": [
    {
     "name": "stdout",
     "output_type": "stream",
     "text": [
      "cat found\n"
     ]
    }
   ],
   "source": [
    "animals = [\"cat\", \"dog\", \"rabbit\"]\n",
    "if \"cat\" in animals:\n",
    "    print(\"cat found\")"
   ]
  },
  {
   "cell_type": "code",
   "execution_count": 3,
   "metadata": {
    "collapsed": false
   },
   "outputs": [
    {
     "name": "stdout",
     "output_type": "stream",
     "text": [
      "True\n"
     ]
    }
   ],
   "source": [
    "animals = [\"cat\", \"dog\", \"rabbit\"]\n",
    "cat_found = \"cat\" in animals\n",
    "print(cat_found)"
   ]
  },
  {
   "cell_type": "code",
   "execution_count": 4,
   "metadata": {
    "collapsed": false
   },
   "outputs": [
    {
     "name": "stdout",
     "output_type": "stream",
     "text": [
      "85\n"
     ]
    }
   ],
   "source": [
    "# Dict\n",
    "students = [\"Tom\",\"Jim\",\"Sue\",\"Ann\"]\n",
    "scores = [70,80,85,75]\n",
    "\n",
    "indexes = [0,1,2,3]\n",
    "name = \"Sue\"\n",
    "score = 0\n",
    "for i in indexes:\n",
    "    if students[i] == name:\n",
    "        score = scores[i]\n",
    "print(score)\n"
   ]
  },
  {
   "cell_type": "code",
   "execution_count": 9,
   "metadata": {
    "collapsed": false
   },
   "outputs": [
    {
     "name": "stdout",
     "output_type": "stream",
     "text": [
      "<class 'dict'>\n",
      "{'Ann': 75, 'Sue': 85, 'Jim': 80}\n"
     ]
    }
   ],
   "source": [
    "scores = {}#Key value\n",
    "print(type(scores))\n",
    "scores[\"Jim\"] = 80\n",
    "scores[\"Sue\"] = 85\n",
    "scores[\"Ann\"] = 75\n",
    "# print(scores.keys())\n",
    "print(scores)\n",
    "# print(scores[\"Sue\"])\n"
   ]
  },
  {
   "cell_type": "code",
   "execution_count": 10,
   "metadata": {
    "collapsed": false
   },
   "outputs": [
    {
     "name": "stdout",
     "output_type": "stream",
     "text": [
      "{'Jim': 70, 'Tom': 60}\n"
     ]
    }
   ],
   "source": [
    "students = {}\n",
    "students[\"Tom\"] = 60\n",
    "students[\"Jim\"] = 70\n",
    "print(students)\n",
    "\n",
    "students = {\n",
    "    \"Tom\":60,\n",
    "    \"Jim\":70\n",
    "}\n",
    "print(students)"
   ]
  },
  {
   "cell_type": "code",
   "execution_count": 12,
   "metadata": {
    "collapsed": false
   },
   "outputs": [
    {
     "name": "stdout",
     "output_type": "stream",
     "text": [
      "{'Jim': 70, 'Tom': 65}\n",
      "{'Jim': 70, 'Tom': 70}\n"
     ]
    }
   ],
   "source": [
    "students = {\n",
    "    \"Tom\":60,\n",
    "    \"Jim\":70\n",
    "}\n",
    "students[\"Tom\"] = 65\n",
    "print(students)\n",
    "students[\"Tom\"] = students[\"Tom\"] + 5\n",
    "print(students)"
   ]
  },
  {
   "cell_type": "code",
   "execution_count": 13,
   "metadata": {
    "collapsed": false
   },
   "outputs": [
    {
     "name": "stdout",
     "output_type": "stream",
     "text": [
      "True\n",
      "False\n"
     ]
    }
   ],
   "source": [
    "students = {\n",
    "    \"Tom\":60,\n",
    "    \"Jim\":70\n",
    "}\n",
    "print(\"Tom\" in students)\n",
    "print(\"Toms\" in students)\n"
   ]
  },
  {
   "cell_type": "code",
   "execution_count": 15,
   "metadata": {
    "collapsed": false
   },
   "outputs": [
    {
     "name": "stdout",
     "output_type": "stream",
     "text": [
      "{'grape': 2, 'orange': 2, 'tomato': 1, 'potato': 1, 'apple': 3}\n"
     ]
    }
   ],
   "source": [
    "pantry = [\"apple\",\"orange\",\"grape\",\"apple\",\"orange\",\"apple\",\"tomato\",\"potato\",\"grape\"]\n",
    "pantry_counts = {}\n",
    "\n",
    "for item in pantry:\n",
    "    if item in pantry_counts:\n",
    "        pantry_counts[item] = pantry_counts[item] + 1\n",
    "    else:\n",
    "        pantry_counts[item] = 1\n",
    "print(pantry_counts)"
   ]
  },
  {
   "cell_type": "code",
   "execution_count": null,
   "metadata": {
    "collapsed": true
   },
   "outputs": [],
   "source": []
  }
 ],
 "metadata": {
  "anaconda-cloud": {},
  "kernelspec": {
   "display_name": "Python [conda env:Anaconda3]",
   "language": "python",
   "name": "conda-env-Anaconda3-py"
  },
  "language_info": {
   "codemirror_mode": {
    "name": "ipython",
    "version": 3
   },
   "file_extension": ".py",
   "mimetype": "text/x-python",
   "name": "python",
   "nbconvert_exporter": "python",
   "pygments_lexer": "ipython3",
   "version": "3.5.6"
  }
 },
 "nbformat": 4,
 "nbformat_minor": 1
}
