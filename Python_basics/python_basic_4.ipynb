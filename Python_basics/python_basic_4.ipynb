{
 "cells": [
  {
   "cell_type": "code",
   "execution_count": 2,
   "metadata": {
    "collapsed": false
   },
   "outputs": [
    {
     "name": "stdout",
     "output_type": "stream",
     "text": [
      "hello world\n",
      "Hongyu Wu\n"
     ]
    }
   ],
   "source": [
    "# files\n",
    "# open a file in python, use the open() func\n",
    "f = open(\"test.txt\",\"r\")\n",
    "g = f.read()\n",
    "print(g)\n",
    "f.close()\n"
   ]
  },
  {
   "cell_type": "code",
   "execution_count": 3,
   "metadata": {
    "collapsed": true
   },
   "outputs": [],
   "source": [
    "f = open(\"test_write.txt\",\"w\")\n",
    "f.write('123456')\n",
    "f.write('\\n')\n",
    "f.write('234567')\n",
    "f.close()"
   ]
  },
  {
   "cell_type": "code",
   "execution_count": 29,
   "metadata": {
    "collapsed": false
   },
   "outputs": [
    {
     "name": "stdout",
     "output_type": "stream",
     "text": [
      "[['1', 'Sunny'], ['2', 'Sunny'], ['3', 'Sunny'], ['4', 'Sunny'], ['5', 'Sunny'], ['6', 'Rain'], ['7', 'Sunny'], ['8', 'Sunny'], ['9', 'Fog'], ['10', 'Rain'], ['']]\n"
     ]
    }
   ],
   "source": [
    "weather_data = []\n",
    "f = open(\"weather.csv\",'r')\n",
    "data = f.read()\n",
    "rows = data.split('\\n')\n",
    "# print(rows)\n",
    "for row in rows:\n",
    "    split_row = row.split(\",\")\n",
    "    weather_data.append(split_row)\n",
    "print(weather_data)"
   ]
  },
  {
   "cell_type": "code",
   "execution_count": 33,
   "metadata": {
    "collapsed": false
   },
   "outputs": [
    {
     "name": "stdout",
     "output_type": "stream",
     "text": [
      "['1', '2', '3', '4', '5', '6', '7', '8', '9', '10', '']\n"
     ]
    }
   ],
   "source": [
    "weather = []\n",
    "for row in weather_data:\n",
    "    weather.append(row[0])\n",
    "print(weather)\n",
    "f.close()"
   ]
  },
  {
   "cell_type": "code",
   "execution_count": 4,
   "metadata": {
    "collapsed": false
   },
   "outputs": [
    {
     "name": "stdout",
     "output_type": "stream",
     "text": [
      "['wu', 'hong', 'yu']\n"
     ]
    }
   ],
   "source": [
    "# split a string into a list\n",
    "sample = \"wu,hong,yu\"\n",
    "split_list = sample.split(\",\")\n",
    "print(split_list)"
   ]
  },
  {
   "cell_type": "code",
   "execution_count": 35,
   "metadata": {
    "collapsed": false
   },
   "outputs": [
    {
     "name": "stdout",
     "output_type": "stream",
     "text": [
      "hello python\n",
      "0\n",
      "1\n",
      "2\n",
      "3\n",
      "4\n",
      "5\n",
      "6\n",
      "7\n",
      "8\n",
      "9\n",
      "None\n",
      "3\n"
     ]
    }
   ],
   "source": [
    "def printHello():\n",
    "    print('hello python')\n",
    "    \n",
    "def printNum():\n",
    "    for i in range(0,10):\n",
    "        print(i)\n",
    "    return\n",
    "\n",
    "def add(a,b):\n",
    "    return a+b\n",
    "\n",
    "printHello()\n",
    "print(printNum())\n",
    "print(add(1,2))"
   ]
  },
  {
   "cell_type": "code",
   "execution_count": null,
   "metadata": {
    "collapsed": true
   },
   "outputs": [],
   "source": []
  }
 ],
 "metadata": {
  "anaconda-cloud": {},
  "kernelspec": {
   "display_name": "Python [conda env:Anaconda3]",
   "language": "python",
   "name": "conda-env-Anaconda3-py"
  },
  "language_info": {
   "codemirror_mode": {
    "name": "ipython",
    "version": 3
   },
   "file_extension": ".py",
   "mimetype": "text/x-python",
   "name": "python",
   "nbconvert_exporter": "python",
   "pygments_lexer": "ipython3",
   "version": "3.5.6"
  }
 },
 "nbformat": 4,
 "nbformat_minor": 1
}
