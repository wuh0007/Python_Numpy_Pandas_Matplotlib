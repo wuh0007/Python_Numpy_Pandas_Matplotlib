{
 "cells": [
  {
   "cell_type": "code",
   "execution_count": 2,
   "metadata": {
    "collapsed": true
   },
   "outputs": [],
   "source": [
    "import pandas as pd\n",
    "\n",
    "food_info = pd.read_csv(\"food.csv\")"
   ]
  },
  {
   "cell_type": "code",
   "execution_count": 3,
   "metadata": {
    "collapsed": false
   },
   "outputs": [
    {
     "name": "stdout",
     "output_type": "stream",
     "text": [
      "0      21\n",
      "1      12\n",
      "2      34\n",
      "3     543\n",
      "4     675\n",
      "5     345\n",
      "6      68\n",
      "7       9\n",
      "8     567\n",
      "9    6578\n",
      "Name: protein(g), dtype: int64\n",
      "0    0.021\n",
      "1    0.012\n",
      "2    0.034\n",
      "3    0.543\n",
      "4    0.675\n",
      "5    0.345\n",
      "6    0.068\n",
      "7    0.009\n",
      "8    0.567\n",
      "9    6.578\n",
      "Name: protein(g), dtype: float64\n"
     ]
    }
   ],
   "source": [
    "print(food_info[\"protein(g)\"])\n",
    "div_1000 = food_info[\"protein(g)\"] / 1000\n",
    "print(div_1000)"
   ]
  },
  {
   "cell_type": "code",
   "execution_count": 5,
   "metadata": {
    "collapsed": false
   },
   "outputs": [
    {
     "name": "stdout",
     "output_type": "stream",
     "text": [
      "7       9\n",
      "1      12\n",
      "0      21\n",
      "2      34\n",
      "6      68\n",
      "5     345\n",
      "3     543\n",
      "8     567\n",
      "4     675\n",
      "9    6578\n",
      "Name: protein(g), dtype: int64\n",
      "9    6578\n",
      "4     675\n",
      "8     567\n",
      "3     543\n",
      "5     345\n",
      "6      68\n",
      "2      34\n",
      "0      21\n",
      "1      12\n",
      "7       9\n",
      "Name: protein(g), dtype: int64\n"
     ]
    }
   ],
   "source": [
    "food_info.sort_values(\"protein(g)\", inplace=True) #small to large\n",
    "print(food_info[\"protein(g)\"])\n",
    "\n",
    "food_info.sort_values(\"protein(g)\", inplace=True, ascending=False) #large to small\n",
    "print(food_info[\"protein(g)\"])"
   ]
  }
 ],
 "metadata": {
  "anaconda-cloud": {},
  "kernelspec": {
   "display_name": "Python [conda env:Anaconda3]",
   "language": "python",
   "name": "conda-env-Anaconda3-py"
  },
  "language_info": {
   "codemirror_mode": {
    "name": "ipython",
    "version": 3
   },
   "file_extension": ".py",
   "mimetype": "text/x-python",
   "name": "python",
   "nbconvert_exporter": "python",
   "pygments_lexer": "ipython3",
   "version": "3.5.6"
  }
 },
 "nbformat": 4,
 "nbformat_minor": 1
}
