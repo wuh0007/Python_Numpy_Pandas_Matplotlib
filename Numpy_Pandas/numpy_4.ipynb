{
 "cells": [
  {
   "cell_type": "code",
   "execution_count": 3,
   "metadata": {
    "collapsed": false
   },
   "outputs": [
    {
     "name": "stdout",
     "output_type": "stream",
     "text": [
      "[0 1 2]\n",
      "[ 1.          2.71828183  7.3890561 ]\n",
      "[ 0.          1.          1.41421356]\n"
     ]
    }
   ],
   "source": [
    "import numpy as np\n",
    "A = np.arange(3)\n",
    "print(A)\n",
    "print(np.exp(A)) #e^A\n",
    "print(np.sqrt(A)) \n"
   ]
  },
  {
   "cell_type": "code",
   "execution_count": 10,
   "metadata": {
    "collapsed": false
   },
   "outputs": [
    {
     "name": "stdout",
     "output_type": "stream",
     "text": [
      "[[ 8.75665468  9.65380412  3.07755079  7.48609127]\n",
      " [ 5.14029225  1.26396774  7.83848587  2.50626543]\n",
      " [ 6.22043636  1.04047809  5.26436005  2.13109026]]\n",
      "-----\n",
      "[[ 8.  9.  3.  7.]\n",
      " [ 5.  1.  7.  2.]\n",
      " [ 6.  1.  5.  2.]]\n",
      "-----\n",
      "[ 8.  9.  3.  7.  5.  1.  7.  2.  6.  1.  5.  2.]\n",
      "-----\n",
      "[[ 8.  9.]\n",
      " [ 3.  7.]\n",
      " [ 5.  1.]\n",
      " [ 7.  2.]\n",
      " [ 6.  1.]\n",
      " [ 5.  2.]]\n",
      "-----\n",
      "[[ 8.  3.  5.  7.  6.  5.]\n",
      " [ 9.  7.  1.  2.  1.  2.]]\n"
     ]
    }
   ],
   "source": [
    "# return the floor of the input\n",
    "a = 10*np.random.random((3,4))\n",
    "print(a)\n",
    "a = np.floor(a)\n",
    "print('-----')\n",
    "print(a)\n",
    "print('-----')\n",
    "print(a.ravel())#flatten the array\n",
    "print('-----')\n",
    "a.shape = (6,2)\n",
    "print(a)\n",
    "print('-----')\n",
    "print(a.T)"
   ]
  },
  {
   "cell_type": "code",
   "execution_count": 13,
   "metadata": {
    "collapsed": false
   },
   "outputs": [
    {
     "name": "stdout",
     "output_type": "stream",
     "text": [
      "[[ 3.  9.]\n",
      " [ 2.  9.]]\n",
      "-----\n",
      "[[ 6.  2.]\n",
      " [ 2.  8.]]\n",
      "-----\n",
      "[[ 3.  9.]\n",
      " [ 2.  9.]\n",
      " [ 6.  2.]\n",
      " [ 2.  8.]]\n",
      "-----\n",
      "[[ 3.  9.  6.  2.]\n",
      " [ 2.  9.  2.  8.]]\n"
     ]
    }
   ],
   "source": [
    "a = np.floor(10*np.random.random((2,2)))\n",
    "b = np.floor(10*np.random.random((2,2)))      \n",
    "print(a)\n",
    "print('-----')\n",
    "print(b)\n",
    "print('-----')\n",
    "print(np.vstack((a,b)))\n",
    "print('-----')\n",
    "print(np.hstack((a,b)))"
   ]
  },
  {
   "cell_type": "code",
   "execution_count": 16,
   "metadata": {
    "collapsed": false
   },
   "outputs": [
    {
     "name": "stdout",
     "output_type": "stream",
     "text": [
      "[[ 7.  3.  2.  0.  9.  5.  0.  0.  9.  3.  0.  5.]\n",
      " [ 4.  1.  1.  8.  7.  1.  4.  8.  5.  5.  6.  0.]]\n",
      "-----\n",
      "[array([[ 7.,  3.,  2.,  0.],\n",
      "       [ 4.,  1.,  1.,  8.]]), array([[ 9.,  5.,  0.,  0.],\n",
      "       [ 7.,  1.,  4.,  8.]]), array([[ 9.,  3.,  0.,  5.],\n",
      "       [ 5.,  5.,  6.,  0.]])]\n",
      "-----\n",
      "[array([[ 7.,  3.,  2.],\n",
      "       [ 4.,  1.,  1.]]), array([[ 0.],\n",
      "       [ 8.]]), array([[ 9.,  5.,  0.,  0.,  9.,  3.,  0.,  5.],\n",
      "       [ 7.,  1.,  4.,  8.,  5.,  5.,  6.,  0.]])]\n",
      "-----\n",
      "[[ 5.  0.]\n",
      " [ 2.  4.]\n",
      " [ 9.  4.]\n",
      " [ 6.  8.]\n",
      " [ 6.  8.]\n",
      " [ 6.  2.]\n",
      " [ 6.  5.]\n",
      " [ 5.  0.]\n",
      " [ 3.  7.]\n",
      " [ 4.  9.]\n",
      " [ 7.  9.]\n",
      " [ 9.  4.]]\n",
      "[array([[ 5.,  0.],\n",
      "       [ 2.,  4.],\n",
      "       [ 9.,  4.],\n",
      "       [ 6.,  8.]]), array([[ 6.,  8.],\n",
      "       [ 6.,  2.],\n",
      "       [ 6.,  5.],\n",
      "       [ 5.,  0.]]), array([[ 3.,  7.],\n",
      "       [ 4.,  9.],\n",
      "       [ 7.,  9.],\n",
      "       [ 9.,  4.]])]\n"
     ]
    }
   ],
   "source": [
    "a = np.floor(10*np.random.random((2,12)))\n",
    "print(a)\n",
    "print('-----')\n",
    "print(np.hsplit(a,3))\n",
    "print('-----')\n",
    "print(np.hsplit(a,(3,4))) #split after the third and the fourth column\n",
    "a = np.floor(10*np.random.random((12,2)))\n",
    "print('-----')\n",
    "print(a)\n",
    "print(np.vsplit(a,3))"
   ]
  },
  {
   "cell_type": "code",
   "execution_count": 17,
   "metadata": {
    "collapsed": false
   },
   "outputs": [
    {
     "name": "stdout",
     "output_type": "stream",
     "text": [
      "True\n",
      "(3, 4)\n",
      "2852149776832\n",
      "2852149776832\n"
     ]
    }
   ],
   "source": [
    "# simple assignments make no copy of array objects or of their data\n",
    "a = np.arange(12)\n",
    "b = a\n",
    "# a & b are two names for the same ndarray object\n",
    "print(b is a)\n",
    "b.shape = 3,4\n",
    "print(a.shape)\n",
    "print(id(a))\n",
    "print(id(b))\n"
   ]
  },
  {
   "cell_type": "code",
   "execution_count": 19,
   "metadata": {
    "collapsed": false
   },
   "outputs": [
    {
     "name": "stdout",
     "output_type": "stream",
     "text": [
      "[[   0    1    2    3]\n",
      " [1234    5    6    7]\n",
      " [   8    9   10   11]]\n",
      "False\n",
      "[[   0    1    2    3 1234    5]\n",
      " [   6    7    8    9   10   11]]\n",
      "(3, 4)\n",
      "[[   0    1    2    3]\n",
      " [1234    5    6    7]\n",
      " [   8    9   10   11]]\n",
      "2852149776832\n",
      "2852149777952\n"
     ]
    }
   ],
   "source": [
    "# the view method creates a new array object that looks at the same data\n",
    "c = a.view()\n",
    "print(c)\n",
    "print(c is a)\n",
    "c.shape = 2,6\n",
    "print(c)\n",
    "print(a.shape)\n",
    "c[0,4] = 1234\n",
    "print(a)\n",
    "print(id(a))\n",
    "print(id(c))"
   ]
  },
  {
   "cell_type": "code",
   "execution_count": 20,
   "metadata": {
    "collapsed": false
   },
   "outputs": [
    {
     "name": "stdout",
     "output_type": "stream",
     "text": [
      "[[9999    1    2    3]\n",
      " [1234    5    6    7]\n",
      " [   8    9   10   11]]\n",
      "[[   0    1    2    3]\n",
      " [1234    5    6    7]\n",
      " [   8    9   10   11]]\n"
     ]
    }
   ],
   "source": [
    "# the copy method makes a complete copy of the array and its data\n",
    "d = a.copy() # this is very important when we just want to copy the value of one variable to another.\n",
    "d is a\n",
    "d[0,0] = 9999\n",
    "print(d)\n",
    "print(a)"
   ]
  }
 ],
 "metadata": {
  "anaconda-cloud": {},
  "kernelspec": {
   "display_name": "Python [conda env:Anaconda3]",
   "language": "python",
   "name": "conda-env-Anaconda3-py"
  },
  "language_info": {
   "codemirror_mode": {
    "name": "ipython",
    "version": 3
   },
   "file_extension": ".py",
   "mimetype": "text/x-python",
   "name": "python",
   "nbconvert_exporter": "python",
   "pygments_lexer": "ipython3",
   "version": "3.5.6"
  }
 },
 "nbformat": 4,
 "nbformat_minor": 1
}
